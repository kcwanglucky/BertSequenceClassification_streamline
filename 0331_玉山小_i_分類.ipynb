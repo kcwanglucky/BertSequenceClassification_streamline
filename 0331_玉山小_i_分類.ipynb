{
  "nbformat": 4,
  "nbformat_minor": 0,
  "metadata": {
    "colab": {
      "name": "0331_玉山小 i 分類.ipynb",
      "provenance": [],
      "collapsed_sections": [],
      "authorship_tag": "ABX9TyMjyUqU0Z/ol6rIoWE5MC+e",
      "include_colab_link": true
    },
    "kernelspec": {
      "name": "python3",
      "display_name": "Python 3"
    },
    "accelerator": "GPU",
    "widgets": {
      "application/vnd.jupyter.widget-state+json": {
        "60a5efc11cbc446f8614e472e29ad855": {
          "model_module": "@jupyter-widgets/controls",
          "model_name": "HBoxModel",
          "state": {
            "_view_name": "HBoxView",
            "_dom_classes": [],
            "_model_name": "HBoxModel",
            "_view_module": "@jupyter-widgets/controls",
            "_model_module_version": "1.5.0",
            "_view_count": null,
            "_view_module_version": "1.5.0",
            "box_style": "",
            "layout": "IPY_MODEL_16d0f712ef6347e4be19e8651c7d6696",
            "_model_module": "@jupyter-widgets/controls",
            "children": [
              "IPY_MODEL_ba0df5d65fb34468bcf076a140f23989",
              "IPY_MODEL_fba1b0a8c3744ded8f8fc896d6219862"
            ]
          }
        },
        "16d0f712ef6347e4be19e8651c7d6696": {
          "model_module": "@jupyter-widgets/base",
          "model_name": "LayoutModel",
          "state": {
            "_view_name": "LayoutView",
            "grid_template_rows": null,
            "right": null,
            "justify_content": null,
            "_view_module": "@jupyter-widgets/base",
            "overflow": null,
            "_model_module_version": "1.2.0",
            "_view_count": null,
            "flex_flow": null,
            "width": null,
            "min_width": null,
            "border": null,
            "align_items": null,
            "bottom": null,
            "_model_module": "@jupyter-widgets/base",
            "top": null,
            "grid_column": null,
            "overflow_y": null,
            "overflow_x": null,
            "grid_auto_flow": null,
            "grid_area": null,
            "grid_template_columns": null,
            "flex": null,
            "_model_name": "LayoutModel",
            "justify_items": null,
            "grid_row": null,
            "max_height": null,
            "align_content": null,
            "visibility": null,
            "align_self": null,
            "height": null,
            "min_height": null,
            "padding": null,
            "grid_auto_rows": null,
            "grid_gap": null,
            "max_width": null,
            "order": null,
            "_view_module_version": "1.2.0",
            "grid_template_areas": null,
            "object_position": null,
            "object_fit": null,
            "grid_auto_columns": null,
            "margin": null,
            "display": null,
            "left": null
          }
        },
        "ba0df5d65fb34468bcf076a140f23989": {
          "model_module": "@jupyter-widgets/controls",
          "model_name": "IntProgressModel",
          "state": {
            "_view_name": "ProgressView",
            "style": "IPY_MODEL_f2ebec4126884fa29d50c5a861bdecb7",
            "_dom_classes": [],
            "description": "Downloading: 100%",
            "_model_name": "IntProgressModel",
            "bar_style": "success",
            "max": 109540,
            "_view_module": "@jupyter-widgets/controls",
            "_model_module_version": "1.5.0",
            "value": 109540,
            "_view_count": null,
            "_view_module_version": "1.5.0",
            "orientation": "horizontal",
            "min": 0,
            "description_tooltip": null,
            "_model_module": "@jupyter-widgets/controls",
            "layout": "IPY_MODEL_9f185c2c4f22496a9d1b0f9073e9201e"
          }
        },
        "fba1b0a8c3744ded8f8fc896d6219862": {
          "model_module": "@jupyter-widgets/controls",
          "model_name": "HTMLModel",
          "state": {
            "_view_name": "HTMLView",
            "style": "IPY_MODEL_152709852a8b4db592d5a7e42ba039f0",
            "_dom_classes": [],
            "description": "",
            "_model_name": "HTMLModel",
            "placeholder": "​",
            "_view_module": "@jupyter-widgets/controls",
            "_model_module_version": "1.5.0",
            "value": " 110k/110k [00:00&lt;00:00, 402kB/s]",
            "_view_count": null,
            "_view_module_version": "1.5.0",
            "description_tooltip": null,
            "_model_module": "@jupyter-widgets/controls",
            "layout": "IPY_MODEL_dbe3768c586b4fa79bfd6ea055a025f4"
          }
        },
        "f2ebec4126884fa29d50c5a861bdecb7": {
          "model_module": "@jupyter-widgets/controls",
          "model_name": "ProgressStyleModel",
          "state": {
            "_view_name": "StyleView",
            "_model_name": "ProgressStyleModel",
            "description_width": "initial",
            "_view_module": "@jupyter-widgets/base",
            "_model_module_version": "1.5.0",
            "_view_count": null,
            "_view_module_version": "1.2.0",
            "bar_color": null,
            "_model_module": "@jupyter-widgets/controls"
          }
        },
        "9f185c2c4f22496a9d1b0f9073e9201e": {
          "model_module": "@jupyter-widgets/base",
          "model_name": "LayoutModel",
          "state": {
            "_view_name": "LayoutView",
            "grid_template_rows": null,
            "right": null,
            "justify_content": null,
            "_view_module": "@jupyter-widgets/base",
            "overflow": null,
            "_model_module_version": "1.2.0",
            "_view_count": null,
            "flex_flow": null,
            "width": null,
            "min_width": null,
            "border": null,
            "align_items": null,
            "bottom": null,
            "_model_module": "@jupyter-widgets/base",
            "top": null,
            "grid_column": null,
            "overflow_y": null,
            "overflow_x": null,
            "grid_auto_flow": null,
            "grid_area": null,
            "grid_template_columns": null,
            "flex": null,
            "_model_name": "LayoutModel",
            "justify_items": null,
            "grid_row": null,
            "max_height": null,
            "align_content": null,
            "visibility": null,
            "align_self": null,
            "height": null,
            "min_height": null,
            "padding": null,
            "grid_auto_rows": null,
            "grid_gap": null,
            "max_width": null,
            "order": null,
            "_view_module_version": "1.2.0",
            "grid_template_areas": null,
            "object_position": null,
            "object_fit": null,
            "grid_auto_columns": null,
            "margin": null,
            "display": null,
            "left": null
          }
        },
        "152709852a8b4db592d5a7e42ba039f0": {
          "model_module": "@jupyter-widgets/controls",
          "model_name": "DescriptionStyleModel",
          "state": {
            "_view_name": "StyleView",
            "_model_name": "DescriptionStyleModel",
            "description_width": "",
            "_view_module": "@jupyter-widgets/base",
            "_model_module_version": "1.5.0",
            "_view_count": null,
            "_view_module_version": "1.2.0",
            "_model_module": "@jupyter-widgets/controls"
          }
        },
        "dbe3768c586b4fa79bfd6ea055a025f4": {
          "model_module": "@jupyter-widgets/base",
          "model_name": "LayoutModel",
          "state": {
            "_view_name": "LayoutView",
            "grid_template_rows": null,
            "right": null,
            "justify_content": null,
            "_view_module": "@jupyter-widgets/base",
            "overflow": null,
            "_model_module_version": "1.2.0",
            "_view_count": null,
            "flex_flow": null,
            "width": null,
            "min_width": null,
            "border": null,
            "align_items": null,
            "bottom": null,
            "_model_module": "@jupyter-widgets/base",
            "top": null,
            "grid_column": null,
            "overflow_y": null,
            "overflow_x": null,
            "grid_auto_flow": null,
            "grid_area": null,
            "grid_template_columns": null,
            "flex": null,
            "_model_name": "LayoutModel",
            "justify_items": null,
            "grid_row": null,
            "max_height": null,
            "align_content": null,
            "visibility": null,
            "align_self": null,
            "height": null,
            "min_height": null,
            "padding": null,
            "grid_auto_rows": null,
            "grid_gap": null,
            "max_width": null,
            "order": null,
            "_view_module_version": "1.2.0",
            "grid_template_areas": null,
            "object_position": null,
            "object_fit": null,
            "grid_auto_columns": null,
            "margin": null,
            "display": null,
            "left": null
          }
        }
      }
    }
  },
  "cells": [
    {
      "cell_type": "markdown",
      "metadata": {
        "id": "view-in-github",
        "colab_type": "text"
      },
      "source": [
        "<a href=\"https://colab.research.google.com/github/kcwanglucky/BertSequenceClassification_streamline/blob/master/0331_%E7%8E%89%E5%B1%B1%E5%B0%8F_i_%E5%88%86%E9%A1%9E.ipynb\" target=\"_parent\"><img src=\"https://colab.research.google.com/assets/colab-badge.svg\" alt=\"Open In Colab\"/></a>"
      ]
    },
    {
      "cell_type": "code",
      "metadata": {
        "id": "bb6U_7bAIpln",
        "colab_type": "code",
        "outputId": "6097b3a1-d4a6-4a63-cff9-9d0157f68e29",
        "colab": {
          "base_uri": "https://localhost:8080/",
          "height": 136
        }
      },
      "source": [
        "!git clone https://github.com/kcwanglucky/BertSequenceClassification_streamline.git"
      ],
      "execution_count": 0,
      "outputs": [
        {
          "output_type": "stream",
          "text": [
            "Cloning into 'BertSequenceClassification_streamline'...\n",
            "remote: Enumerating objects: 117, done.\u001b[K\n",
            "remote: Counting objects: 100% (117/117), done.\u001b[K\n",
            "remote: Compressing objects: 100% (94/94), done.\u001b[K\n",
            "remote: Total 117 (delta 71), reused 43 (delta 22), pack-reused 0\u001b[K\n",
            "Receiving objects: 100% (117/117), 59.09 KiB | 332.00 KiB/s, done.\n",
            "Resolving deltas: 100% (71/71), done.\n"
          ],
          "name": "stdout"
        }
      ]
    },
    {
      "cell_type": "code",
      "metadata": {
        "id": "J6d6X2y3JNzp",
        "colab_type": "code",
        "outputId": "7270391d-63fa-41c3-ca30-6b1bcc624ea8",
        "colab": {
          "base_uri": "https://localhost:8080/",
          "height": 683
        }
      },
      "source": [
        "!pip install transformers"
      ],
      "execution_count": 0,
      "outputs": [
        {
          "output_type": "stream",
          "text": [
            "Collecting transformers\n",
            "\u001b[?25l  Downloading https://files.pythonhosted.org/packages/a3/78/92cedda05552398352ed9784908b834ee32a0bd071a9b32de287327370b7/transformers-2.8.0-py3-none-any.whl (563kB)\n",
            "\r\u001b[K     |▋                               | 10kB 18.2MB/s eta 0:00:01\r\u001b[K     |█▏                              | 20kB 767kB/s eta 0:00:01\r\u001b[K     |█▊                              | 30kB 929kB/s eta 0:00:01\r\u001b[K     |██▎                             | 40kB 1.1MB/s eta 0:00:01\r\u001b[K     |███                             | 51kB 994kB/s eta 0:00:01\r\u001b[K     |███▌                            | 61kB 1.1MB/s eta 0:00:01\r\u001b[K     |████                            | 71kB 1.2MB/s eta 0:00:01\r\u001b[K     |████▋                           | 81kB 1.3MB/s eta 0:00:01\r\u001b[K     |█████▎                          | 92kB 1.4MB/s eta 0:00:01\r\u001b[K     |█████▉                          | 102kB 1.4MB/s eta 0:00:01\r\u001b[K     |██████▍                         | 112kB 1.4MB/s eta 0:00:01\r\u001b[K     |███████                         | 122kB 1.4MB/s eta 0:00:01\r\u001b[K     |███████▋                        | 133kB 1.4MB/s eta 0:00:01\r\u001b[K     |████████▏                       | 143kB 1.4MB/s eta 0:00:01\r\u001b[K     |████████▊                       | 153kB 1.4MB/s eta 0:00:01\r\u001b[K     |█████████▎                      | 163kB 1.4MB/s eta 0:00:01\r\u001b[K     |█████████▉                      | 174kB 1.4MB/s eta 0:00:01\r\u001b[K     |██████████▌                     | 184kB 1.4MB/s eta 0:00:01\r\u001b[K     |███████████                     | 194kB 1.4MB/s eta 0:00:01\r\u001b[K     |███████████▋                    | 204kB 1.4MB/s eta 0:00:01\r\u001b[K     |████████████▏                   | 215kB 1.4MB/s eta 0:00:01\r\u001b[K     |████████████▉                   | 225kB 1.4MB/s eta 0:00:01\r\u001b[K     |█████████████▍                  | 235kB 1.4MB/s eta 0:00:01\r\u001b[K     |██████████████                  | 245kB 1.4MB/s eta 0:00:01\r\u001b[K     |██████████████▌                 | 256kB 1.4MB/s eta 0:00:01\r\u001b[K     |███████████████▏                | 266kB 1.4MB/s eta 0:00:01\r\u001b[K     |███████████████▊                | 276kB 1.4MB/s eta 0:00:01\r\u001b[K     |████████████████▎               | 286kB 1.4MB/s eta 0:00:01\r\u001b[K     |████████████████▉               | 296kB 1.4MB/s eta 0:00:01\r\u001b[K     |█████████████████▍              | 307kB 1.4MB/s eta 0:00:01\r\u001b[K     |██████████████████              | 317kB 1.4MB/s eta 0:00:01\r\u001b[K     |██████████████████▋             | 327kB 1.4MB/s eta 0:00:01\r\u001b[K     |███████████████████▏            | 337kB 1.4MB/s eta 0:00:01\r\u001b[K     |███████████████████▊            | 348kB 1.4MB/s eta 0:00:01\r\u001b[K     |████████████████████▍           | 358kB 1.4MB/s eta 0:00:01\r\u001b[K     |█████████████████████           | 368kB 1.4MB/s eta 0:00:01\r\u001b[K     |█████████████████████▌          | 378kB 1.4MB/s eta 0:00:01\r\u001b[K     |██████████████████████          | 389kB 1.4MB/s eta 0:00:01\r\u001b[K     |██████████████████████▊         | 399kB 1.4MB/s eta 0:00:01\r\u001b[K     |███████████████████████▎        | 409kB 1.4MB/s eta 0:00:01\r\u001b[K     |███████████████████████▉        | 419kB 1.4MB/s eta 0:00:01\r\u001b[K     |████████████████████████▍       | 430kB 1.4MB/s eta 0:00:01\r\u001b[K     |█████████████████████████       | 440kB 1.4MB/s eta 0:00:01\r\u001b[K     |█████████████████████████▋      | 450kB 1.4MB/s eta 0:00:01\r\u001b[K     |██████████████████████████▏     | 460kB 1.4MB/s eta 0:00:01\r\u001b[K     |██████████████████████████▊     | 471kB 1.4MB/s eta 0:00:01\r\u001b[K     |███████████████████████████▎    | 481kB 1.4MB/s eta 0:00:01\r\u001b[K     |████████████████████████████    | 491kB 1.4MB/s eta 0:00:01\r\u001b[K     |████████████████████████████▌   | 501kB 1.4MB/s eta 0:00:01\r\u001b[K     |█████████████████████████████   | 512kB 1.4MB/s eta 0:00:01\r\u001b[K     |█████████████████████████████▋  | 522kB 1.4MB/s eta 0:00:01\r\u001b[K     |██████████████████████████████▎ | 532kB 1.4MB/s eta 0:00:01\r\u001b[K     |██████████████████████████████▉ | 542kB 1.4MB/s eta 0:00:01\r\u001b[K     |███████████████████████████████▍| 552kB 1.4MB/s eta 0:00:01\r\u001b[K     |████████████████████████████████| 563kB 1.4MB/s eta 0:00:01\r\u001b[K     |████████████████████████████████| 573kB 1.4MB/s \n",
            "\u001b[?25hCollecting sacremoses\n",
            "\u001b[?25l  Downloading https://files.pythonhosted.org/packages/a6/b4/7a41d630547a4afd58143597d5a49e07bfd4c42914d8335b2a5657efc14b/sacremoses-0.0.38.tar.gz (860kB)\n",
            "\r\u001b[K     |▍                               | 10kB 9.1MB/s eta 0:00:01\r\u001b[K     |▊                               | 20kB 4.2MB/s eta 0:00:01\r\u001b[K     |█▏                              | 30kB 6.1MB/s eta 0:00:01\r\u001b[K     |█▌                              | 40kB 4.4MB/s eta 0:00:01\r\u001b[K     |██                              | 51kB 3.7MB/s eta 0:00:01\r\u001b[K     |██▎                             | 61kB 4.4MB/s eta 0:00:01\r\u001b[K     |██▋                             | 71kB 2.9MB/s eta 0:00:01\r\u001b[K     |███                             | 81kB 3.3MB/s eta 0:00:01\r\u001b[K     |███▍                            | 92kB 3.3MB/s eta 0:00:01\r\u001b[K     |███▉                            | 102kB 3.1MB/s eta 0:00:01\r\u001b[K     |████▏                           | 112kB 3.1MB/s eta 0:00:01\r\u001b[K     |████▋                           | 122kB 3.1MB/s eta 0:00:01\r\u001b[K     |█████                           | 133kB 3.1MB/s eta 0:00:01\r\u001b[K     |█████▎                          | 143kB 3.1MB/s eta 0:00:01\r\u001b[K     |█████▊                          | 153kB 3.1MB/s eta 0:00:01\r\u001b[K     |██████                          | 163kB 3.1MB/s eta 0:00:01\r\u001b[K     |██████▌                         | 174kB 3.1MB/s eta 0:00:01\r\u001b[K     |██████▉                         | 184kB 3.1MB/s eta 0:00:01\r\u001b[K     |███████▎                        | 194kB 3.1MB/s eta 0:00:01\r\u001b[K     |███████▋                        | 204kB 3.1MB/s eta 0:00:01\r\u001b[K     |████████                        | 215kB 3.1MB/s eta 0:00:01\r\u001b[K     |████████▍                       | 225kB 3.1MB/s eta 0:00:01\r\u001b[K     |████████▊                       | 235kB 3.1MB/s eta 0:00:01\r\u001b[K     |█████████▏                      | 245kB 3.1MB/s eta 0:00:01\r\u001b[K     |█████████▌                      | 256kB 3.1MB/s eta 0:00:01\r\u001b[K     |██████████                      | 266kB 3.1MB/s eta 0:00:01\r\u001b[K     |██████████▎                     | 276kB 3.1MB/s eta 0:00:01\r\u001b[K     |██████████▋                     | 286kB 3.1MB/s eta 0:00:01\r\u001b[K     |███████████                     | 296kB 3.1MB/s eta 0:00:01\r\u001b[K     |███████████▍                    | 307kB 3.1MB/s eta 0:00:01\r\u001b[K     |███████████▉                    | 317kB 3.1MB/s eta 0:00:01\r\u001b[K     |████████████▏                   | 327kB 3.1MB/s eta 0:00:01\r\u001b[K     |████████████▋                   | 337kB 3.1MB/s eta 0:00:01\r\u001b[K     |█████████████                   | 348kB 3.1MB/s eta 0:00:01\r\u001b[K     |█████████████▎                  | 358kB 3.1MB/s eta 0:00:01\r\u001b[K     |█████████████▊                  | 368kB 3.1MB/s eta 0:00:01\r\u001b[K     |██████████████                  | 378kB 3.1MB/s eta 0:00:01\r\u001b[K     |██████████████▌                 | 389kB 3.1MB/s eta 0:00:01\r\u001b[K     |██████████████▉                 | 399kB 3.1MB/s eta 0:00:01\r\u001b[K     |███████████████▎                | 409kB 3.1MB/s eta 0:00:01\r\u001b[K     |███████████████▋                | 419kB 3.1MB/s eta 0:00:01\r\u001b[K     |████████████████                | 430kB 3.1MB/s eta 0:00:01\r\u001b[K     |████████████████▍               | 440kB 3.1MB/s eta 0:00:01\r\u001b[K     |████████████████▊               | 450kB 3.1MB/s eta 0:00:01\r\u001b[K     |█████████████████▏              | 460kB 3.1MB/s eta 0:00:01\r\u001b[K     |█████████████████▌              | 471kB 3.1MB/s eta 0:00:01\r\u001b[K     |██████████████████              | 481kB 3.1MB/s eta 0:00:01\r\u001b[K     |██████████████████▎             | 491kB 3.1MB/s eta 0:00:01\r\u001b[K     |██████████████████▋             | 501kB 3.1MB/s eta 0:00:01\r\u001b[K     |███████████████████             | 512kB 3.1MB/s eta 0:00:01\r\u001b[K     |███████████████████▍            | 522kB 3.1MB/s eta 0:00:01\r\u001b[K     |███████████████████▉            | 532kB 3.1MB/s eta 0:00:01\r\u001b[K     |████████████████████▏           | 542kB 3.1MB/s eta 0:00:01\r\u001b[K     |████████████████████▋           | 552kB 3.1MB/s eta 0:00:01\r\u001b[K     |█████████████████████           | 563kB 3.1MB/s eta 0:00:01\r\u001b[K     |█████████████████████▎          | 573kB 3.1MB/s eta 0:00:01\r\u001b[K     |█████████████████████▊          | 583kB 3.1MB/s eta 0:00:01\r\u001b[K     |██████████████████████          | 593kB 3.1MB/s eta 0:00:01\r\u001b[K     |██████████████████████▌         | 604kB 3.1MB/s eta 0:00:01\r\u001b[K     |██████████████████████▉         | 614kB 3.1MB/s eta 0:00:01\r\u001b[K     |███████████████████████▏        | 624kB 3.1MB/s eta 0:00:01\r\u001b[K     |███████████████████████▋        | 634kB 3.1MB/s eta 0:00:01\r\u001b[K     |████████████████████████        | 645kB 3.1MB/s eta 0:00:01\r\u001b[K     |████████████████████████▍       | 655kB 3.1MB/s eta 0:00:01\r\u001b[K     |████████████████████████▊       | 665kB 3.1MB/s eta 0:00:01\r\u001b[K     |█████████████████████████▏      | 675kB 3.1MB/s eta 0:00:01\r\u001b[K     |█████████████████████████▌      | 686kB 3.1MB/s eta 0:00:01\r\u001b[K     |█████████████████████████▉      | 696kB 3.1MB/s eta 0:00:01\r\u001b[K     |██████████████████████████▎     | 706kB 3.1MB/s eta 0:00:01\r\u001b[K     |██████████████████████████▋     | 716kB 3.1MB/s eta 0:00:01\r\u001b[K     |███████████████████████████     | 727kB 3.1MB/s eta 0:00:01\r\u001b[K     |███████████████████████████▍    | 737kB 3.1MB/s eta 0:00:01\r\u001b[K     |███████████████████████████▉    | 747kB 3.1MB/s eta 0:00:01\r\u001b[K     |████████████████████████████▏   | 757kB 3.1MB/s eta 0:00:01\r\u001b[K     |████████████████████████████▌   | 768kB 3.1MB/s eta 0:00:01\r\u001b[K     |█████████████████████████████   | 778kB 3.1MB/s eta 0:00:01\r\u001b[K     |█████████████████████████████▎  | 788kB 3.1MB/s eta 0:00:01\r\u001b[K     |█████████████████████████████▊  | 798kB 3.1MB/s eta 0:00:01\r\u001b[K     |██████████████████████████████  | 808kB 3.1MB/s eta 0:00:01\r\u001b[K     |██████████████████████████████▌ | 819kB 3.1MB/s eta 0:00:01\r\u001b[K     |██████████████████████████████▉ | 829kB 3.1MB/s eta 0:00:01\r\u001b[K     |███████████████████████████████▏| 839kB 3.1MB/s eta 0:00:01\r\u001b[K     |███████████████████████████████▋| 849kB 3.1MB/s eta 0:00:01\r\u001b[K     |████████████████████████████████| 860kB 3.1MB/s eta 0:00:01\r\u001b[K     |████████████████████████████████| 870kB 3.1MB/s \n",
            "\u001b[?25hRequirement already satisfied: tqdm>=4.27 in /usr/local/lib/python3.6/dist-packages (from transformers) (4.38.0)\n",
            "Collecting sentencepiece\n",
            "\u001b[?25l  Downloading https://files.pythonhosted.org/packages/74/f4/2d5214cbf13d06e7cb2c20d84115ca25b53ea76fa1f0ade0e3c9749de214/sentencepiece-0.1.85-cp36-cp36m-manylinux1_x86_64.whl (1.0MB)\n",
            "\u001b[K     |████████████████████████████████| 1.0MB 6.3MB/s \n",
            "\u001b[?25hRequirement already satisfied: regex!=2019.12.17 in /usr/local/lib/python3.6/dist-packages (from transformers) (2019.12.20)\n",
            "Requirement already satisfied: boto3 in /usr/local/lib/python3.6/dist-packages (from transformers) (1.12.33)\n",
            "Collecting tokenizers==0.5.2\n",
            "\u001b[?25l  Downloading https://files.pythonhosted.org/packages/d1/3f/73c881ea4723e43c1e9acf317cf407fab3a278daab3a69c98dcac511c04f/tokenizers-0.5.2-cp36-cp36m-manylinux1_x86_64.whl (3.7MB)\n",
            "\u001b[K     |████████████████████████████████| 3.7MB 8.8MB/s \n",
            "\u001b[?25hRequirement already satisfied: numpy in /usr/local/lib/python3.6/dist-packages (from transformers) (1.18.2)\n",
            "Requirement already satisfied: requests in /usr/local/lib/python3.6/dist-packages (from transformers) (2.21.0)\n",
            "Requirement already satisfied: dataclasses; python_version < \"3.7\" in /usr/local/lib/python3.6/dist-packages (from transformers) (0.7)\n",
            "Requirement already satisfied: filelock in /usr/local/lib/python3.6/dist-packages (from transformers) (3.0.12)\n",
            "Requirement already satisfied: six in /usr/local/lib/python3.6/dist-packages (from sacremoses->transformers) (1.12.0)\n",
            "Requirement already satisfied: click in /usr/local/lib/python3.6/dist-packages (from sacremoses->transformers) (7.1.1)\n",
            "Requirement already satisfied: joblib in /usr/local/lib/python3.6/dist-packages (from sacremoses->transformers) (0.14.1)\n",
            "Requirement already satisfied: jmespath<1.0.0,>=0.7.1 in /usr/local/lib/python3.6/dist-packages (from boto3->transformers) (0.9.5)\n",
            "Requirement already satisfied: s3transfer<0.4.0,>=0.3.0 in /usr/local/lib/python3.6/dist-packages (from boto3->transformers) (0.3.3)\n",
            "Requirement already satisfied: botocore<1.16.0,>=1.15.33 in /usr/local/lib/python3.6/dist-packages (from boto3->transformers) (1.15.33)\n",
            "Requirement already satisfied: urllib3<1.25,>=1.21.1 in /usr/local/lib/python3.6/dist-packages (from requests->transformers) (1.24.3)\n",
            "Requirement already satisfied: chardet<3.1.0,>=3.0.2 in /usr/local/lib/python3.6/dist-packages (from requests->transformers) (3.0.4)\n",
            "Requirement already satisfied: certifi>=2017.4.17 in /usr/local/lib/python3.6/dist-packages (from requests->transformers) (2019.11.28)\n",
            "Requirement already satisfied: idna<2.9,>=2.5 in /usr/local/lib/python3.6/dist-packages (from requests->transformers) (2.8)\n",
            "Requirement already satisfied: python-dateutil<3.0.0,>=2.1 in /usr/local/lib/python3.6/dist-packages (from botocore<1.16.0,>=1.15.33->boto3->transformers) (2.8.1)\n",
            "Requirement already satisfied: docutils<0.16,>=0.10 in /usr/local/lib/python3.6/dist-packages (from botocore<1.16.0,>=1.15.33->boto3->transformers) (0.15.2)\n",
            "Building wheels for collected packages: sacremoses\n",
            "  Building wheel for sacremoses (setup.py) ... \u001b[?25l\u001b[?25hdone\n",
            "  Created wheel for sacremoses: filename=sacremoses-0.0.38-cp36-none-any.whl size=884628 sha256=a7d9dbe7dc92bdad0fbe95d67ecdaa37c695bee4749b925c95aba8c2280c072b\n",
            "  Stored in directory: /root/.cache/pip/wheels/6d/ec/1a/21b8912e35e02741306f35f66c785f3afe94de754a0eaf1422\n",
            "Successfully built sacremoses\n",
            "Installing collected packages: sacremoses, sentencepiece, tokenizers, transformers\n",
            "Successfully installed sacremoses-0.0.38 sentencepiece-0.1.85 tokenizers-0.5.2 transformers-2.8.0\n"
          ],
          "name": "stdout"
        }
      ]
    },
    {
      "cell_type": "code",
      "metadata": {
        "id": "blrqPgIDJV8A",
        "colab_type": "code",
        "colab": {}
      },
      "source": [
        "import pandas as pd\n",
        "import numpy as np\n",
        "from sklearn.metrics.pairwise import cosine_similarity\n",
        "from transformers import BertModel, BertTokenizer\n",
        "import torch\n",
        "import matplotlib as mpl\n",
        "import matplotlib.pyplot as plt\n",
        "import matplotlib.font_manager as fm\n",
        "from BertSequenceClassification_streamline.bert_downstream_classification import *\n",
        "from BertSequenceClassification_streamline.app_comment import *"
      ],
      "execution_count": 0,
      "outputs": []
    },
    {
      "cell_type": "code",
      "metadata": {
        "id": "BW-NZRMmOj-X",
        "colab_type": "code",
        "colab": {}
      },
      "source": [
        "def let_colab_print_chinese():\n",
        "    \"\"\"Download the required font to print chinese characters on plots created by matplotlib\n",
        "    Returns:\n",
        "        FontProperties: when provide it as an argument to plt.plot graphs,\n",
        "                        chinese character can be displayed\n",
        "    \"\"\"\n",
        "    !wget \"https://noto-website-2.storage.googleapis.com/pkgs/NotoSansCJKkr-hinted.zip\"\n",
        "    !unzip \"NotoSansCJKkr-hinted.zip\"\n",
        "    !mv NotoSansCJKkr-Medium.otf /usr/share/fonts/truetype/\n",
        "    path = '/usr/share/fonts/truetype/NotoSansCJKkr-Medium.otf'\n",
        "    fontprop = fm.FontProperties(fname=path, size= 18)\n",
        "    return fontprop"
      ],
      "execution_count": 0,
      "outputs": []
    },
    {
      "cell_type": "code",
      "metadata": {
        "id": "qaEFv4ibJWkB",
        "colab_type": "code",
        "outputId": "2d6c2016-7627-46f8-f8f9-3696b045320c",
        "colab": {
          "base_uri": "https://localhost:8080/",
          "height": 428
        }
      },
      "source": [
        "# 為了讓 colab 能 print 中文\n",
        "fontprop = let_colab_print_chinese()\n",
        "#fm.FontProperties(fname='/usr/share/fonts/truetype/NotoSansCJKkr-Medium.otf', size= 12)"
      ],
      "execution_count": 0,
      "outputs": [
        {
          "output_type": "stream",
          "text": [
            "--2020-04-06 14:26:23--  https://noto-website-2.storage.googleapis.com/pkgs/NotoSansCJKkr-hinted.zip\n",
            "Resolving noto-website-2.storage.googleapis.com (noto-website-2.storage.googleapis.com)... 74.125.203.128, 2404:6800:4008:c03::80\n",
            "Connecting to noto-website-2.storage.googleapis.com (noto-website-2.storage.googleapis.com)|74.125.203.128|:443... connected.\n",
            "HTTP request sent, awaiting response... 200 OK\n",
            "Length: 121163981 (116M) [application/zip]\n",
            "Saving to: ‘NotoSansCJKkr-hinted.zip’\n",
            "\n",
            "\rNotoSansCJKkr-hinte   0%[                    ]       0  --.-KB/s               \rNotoSansCJKkr-hinte  20%[===>                ]  23.52M   118MB/s               \rNotoSansCJKkr-hinte  46%[========>           ]  53.54M   134MB/s               \rNotoSansCJKkr-hinte  79%[==============>     ]  92.23M   154MB/s               \rNotoSansCJKkr-hinte 100%[===================>] 115.55M   157MB/s    in 0.7s    \n",
            "\n",
            "2020-04-06 14:26:24 (157 MB/s) - ‘NotoSansCJKkr-hinted.zip’ saved [121163981/121163981]\n",
            "\n",
            "Archive:  NotoSansCJKkr-hinted.zip\n",
            "  inflating: LICENSE_OFL.txt         \n",
            "  inflating: NotoSansCJKkr-Black.otf  \n",
            "  inflating: NotoSansCJKkr-Bold.otf  \n",
            "  inflating: NotoSansCJKkr-DemiLight.otf  \n",
            "  inflating: NotoSansCJKkr-Light.otf  \n",
            "  inflating: NotoSansCJKkr-Medium.otf  \n",
            "  inflating: NotoSansCJKkr-Regular.otf  \n",
            "  inflating: NotoSansCJKkr-Thin.otf  \n",
            "  inflating: NotoSansMonoCJKkr-Bold.otf  \n",
            "  inflating: NotoSansMonoCJKkr-Regular.otf  \n",
            "  inflating: README                  \n"
          ],
          "name": "stdout"
        }
      ]
    },
    {
      "cell_type": "code",
      "metadata": {
        "id": "IKUGiku1Pf8H",
        "colab_type": "code",
        "colab": {}
      },
      "source": [
        "\"\"\"set the arguments if not using a command line \"\"\"\n",
        "class Args:\n",
        "    data_path = 'intent_reduced.csv'\n",
        "    epoch = 60\n",
        "    batch_size = 64\n",
        "    min_each_group = 0                      # 每組至少要有幾筆才被放入訓練集\n",
        "    maxlength = 60                          # 若app comment評論超過此長度則刪除\n",
        "    model_output = 'model_ep60_eg0_ml50'\n",
        "args = Args()"
      ],
      "execution_count": 0,
      "outputs": []
    },
    {
      "cell_type": "code",
      "metadata": {
        "id": "fQm_vdzyJWml",
        "colab_type": "code",
        "colab": {}
      },
      "source": [
        "path = \"intent.csv\"\n",
        "df = pd.read_csv(path)"
      ],
      "execution_count": 0,
      "outputs": []
    },
    {
      "cell_type": "code",
      "metadata": {
        "id": "wab8kQX4o69G",
        "colab_type": "code",
        "outputId": "f764865d-fa32-4a54-f0b4-6e5ae6e39ffe",
        "colab": {
          "base_uri": "https://localhost:8080/",
          "height": 34
        }
      },
      "source": [
        "df_new, NUM_LABELS = preprocessing(df, args.min_each_group, args.maxlength)"
      ],
      "execution_count": 0,
      "outputs": [
        {
          "output_type": "stream",
          "text": [
            "label的數量：499\n"
          ],
          "name": "stdout"
        }
      ]
    },
    {
      "cell_type": "code",
      "metadata": {
        "id": "SqH8-Ts9LZ44",
        "colab_type": "code",
        "colab": {}
      },
      "source": [
        "all_intent = AppCommentData(df_new, mode = \"all\")"
      ],
      "execution_count": 0,
      "outputs": []
    },
    {
      "cell_type": "code",
      "metadata": {
        "id": "eR1V0uEcngSQ",
        "colab_type": "code",
        "outputId": "a10cf6db-d4cb-44b4-abe4-108f9ec5a1b2",
        "colab": {
          "base_uri": "https://localhost:8080/",
          "height": 34
        }
      },
      "source": [
        "len(all_intent.df['index'].value_counts())"
      ],
      "execution_count": 0,
      "outputs": [
        {
          "output_type": "execute_result",
          "data": {
            "text/plain": [
              "499"
            ]
          },
          "metadata": {
            "tags": []
          },
          "execution_count": 13
        }
      ]
    },
    {
      "cell_type": "code",
      "metadata": {
        "id": "_xFaJnq_LZ69",
        "colab_type": "code",
        "colab": {}
      },
      "source": [
        "#all_intent.plot_pie(fontprop)\n",
        "#all_intent.get_index_dist(verbose = True)\n",
        "num_labels = all_intent.get_num_index()\n",
        "index2label = all_intent.get_index2label()\n",
        "label2index = all_intent.get_label2index()"
      ],
      "execution_count": 0,
      "outputs": []
    },
    {
      "cell_type": "code",
      "metadata": {
        "id": "RSfNx7RrQlH2",
        "colab_type": "code",
        "outputId": "e05f6b0a-2049-48c7-b8d9-d4a26b1b86b3",
        "colab": {
          "base_uri": "https://localhost:8080/",
          "height": 117,
          "referenced_widgets": [
            "60a5efc11cbc446f8614e472e29ad855",
            "16d0f712ef6347e4be19e8651c7d6696",
            "ba0df5d65fb34468bcf076a140f23989",
            "fba1b0a8c3744ded8f8fc896d6219862",
            "f2ebec4126884fa29d50c5a861bdecb7",
            "9f185c2c4f22496a9d1b0f9073e9201e",
            "152709852a8b4db592d5a7e42ba039f0",
            "dbe3768c586b4fa79bfd6ea055a025f4"
          ]
        }
      },
      "source": [
        "# 1. 隨機抽樣\n",
        "# df_train, df_val, df_test = train_val_test_split(df_new, 0.7)\n",
        "# 2. 定比例抽樣\n",
        "df_train, df_val, df_test = output_split(df_new, 0.8)\n",
        "\n",
        "PRETRAINED_MODEL_NAME = \"bert-base-chinese\"\n",
        "# 取得此預訓練模型所使用的 tokenizer\n",
        "tokenizer = BertTokenizer.from_pretrained(PRETRAINED_MODEL_NAME)"
      ],
      "execution_count": 0,
      "outputs": [
        {
          "output_type": "stream",
          "text": [
            "訓練樣本數： 3553\n",
            "validation樣本數： 437\n",
            "預測樣本數： 437\n"
          ],
          "name": "stdout"
        },
        {
          "output_type": "display_data",
          "data": {
            "application/vnd.jupyter.widget-view+json": {
              "model_id": "60a5efc11cbc446f8614e472e29ad855",
              "version_minor": 0,
              "version_major": 2
            },
            "text/plain": [
              "HBox(children=(IntProgress(value=0, description='Downloading', max=109540, style=ProgressStyle(description_wid…"
            ]
          },
          "metadata": {
            "tags": []
          }
        },
        {
          "output_type": "stream",
          "text": [
            "\n"
          ],
          "name": "stdout"
        }
      ]
    },
    {
      "cell_type": "code",
      "metadata": {
        "id": "fEvejxxBQ-Zv",
        "colab_type": "code",
        "colab": {}
      },
      "source": [
        "# investigate train set\n",
        "app_train = AppCommentData(df_train, \"train\", tokenizer, 64)\n",
        "app_train.reindex(label2index)"
      ],
      "execution_count": 0,
      "outputs": []
    },
    {
      "cell_type": "code",
      "metadata": {
        "id": "nthzv6v8RDLR",
        "colab_type": "code",
        "colab": {}
      },
      "source": [
        "# investigate test set\n",
        "app_val = AppCommentData(df_val, \"val\", tokenizer, 64)\n",
        "app_val.reindex(label2index)\n",
        "app_test = AppCommentData(df_test, \"test\", tokenizer, 64)\n",
        "app_test.reindex(label2index)"
      ],
      "execution_count": 0,
      "outputs": []
    },
    {
      "cell_type": "code",
      "metadata": {
        "id": "YmTk-L4kRKRp",
        "colab_type": "code",
        "outputId": "c7c03a84-c1e5-4d71-8fd2-97f1ce32ae14",
        "colab": {
          "base_uri": "https://localhost:8080/",
          "height": 68
        }
      },
      "source": [
        "print(\"train set size: \", len(app_train.df))\n",
        "print(\"validate set size: \", len(app_val.df))\n",
        "print(\"test set size: \", len(app_test.df))"
      ],
      "execution_count": 0,
      "outputs": [
        {
          "output_type": "stream",
          "text": [
            "train set size:  3553\n",
            "validate set size:  437\n",
            "test set size:  437\n"
          ],
          "name": "stdout"
        }
      ]
    },
    {
      "cell_type": "code",
      "metadata": {
        "id": "xqr4Hd33RXa1",
        "colab_type": "code",
        "colab": {}
      },
      "source": [
        "trainloader = app_train.get_dataloader()\n",
        "valloader = app_val.get_dataloader()\n",
        "testloader = app_test.get_dataloader()\n"
      ],
      "execution_count": 0,
      "outputs": []
    },
    {
      "cell_type": "code",
      "metadata": {
        "id": "hLTa-Mp-Rabb",
        "colab_type": "code",
        "outputId": "c08dbb55-c380-435a-cad4-725410e4293a",
        "colab": {
          "base_uri": "https://localhost:8080/",
          "height": 1000
        }
      },
      "source": [
        "model = train(trainloader, valloader, PRETRAINED_MODEL_NAME, num_labels, args.epoch)\n",
        "save_model(args, args.model_output, model, tokenizer)"
      ],
      "execution_count": 0,
      "outputs": [
        {
          "output_type": "stream",
          "text": [
            "device: cuda:0\n",
            "\n",
            "======== Epoch 1 / 60 ========\n",
            "Training...\n",
            "loss: 305.206, acc: 0.046\n",
            "\n",
            "Running Validation...\n",
            "  Accuracy: 0.06\n",
            "\n",
            "======== Epoch 2 / 60 ========\n",
            "Training...\n",
            "loss: 291.423, acc: 0.060\n",
            "\n",
            "Running Validation...\n",
            "  Accuracy: 0.07\n",
            "\n",
            "======== Epoch 3 / 60 ========\n",
            "Training...\n",
            "loss: 279.217, acc: 0.083\n",
            "\n",
            "Running Validation...\n",
            "  Accuracy: 0.09\n",
            "\n",
            "======== Epoch 4 / 60 ========\n",
            "Training...\n",
            "loss: 267.617, acc: 0.130\n",
            "\n",
            "Running Validation...\n",
            "  Accuracy: 0.11\n",
            "\n",
            "======== Epoch 5 / 60 ========\n",
            "Training...\n",
            "loss: 256.632, acc: 0.195\n",
            "\n",
            "Running Validation...\n",
            "  Accuracy: 0.14\n",
            "\n",
            "======== Epoch 6 / 60 ========\n",
            "Training...\n",
            "loss: 246.345, acc: 0.252\n",
            "\n",
            "Running Validation...\n",
            "  Accuracy: 0.17\n",
            "\n",
            "======== Epoch 7 / 60 ========\n",
            "Training...\n",
            "loss: 237.052, acc: 0.309\n",
            "\n",
            "Running Validation...\n",
            "  Accuracy: 0.21\n",
            "\n",
            "======== Epoch 8 / 60 ========\n",
            "Training...\n",
            "loss: 228.291, acc: 0.390\n",
            "\n",
            "Running Validation...\n",
            "  Accuracy: 0.25\n",
            "\n",
            "======== Epoch 9 / 60 ========\n",
            "Training...\n",
            "loss: 219.651, acc: 0.411\n",
            "\n",
            "Running Validation...\n",
            "  Accuracy: 0.24\n",
            "\n",
            "======== Epoch 10 / 60 ========\n",
            "Training...\n",
            "loss: 210.933, acc: 0.477\n",
            "\n",
            "Running Validation...\n",
            "  Accuracy: 0.29\n",
            "\n",
            "======== Epoch 11 / 60 ========\n",
            "Training...\n",
            "loss: 204.152, acc: 0.535\n",
            "\n",
            "Running Validation...\n",
            "  Accuracy: 0.32\n",
            "\n",
            "======== Epoch 12 / 60 ========\n",
            "Training...\n",
            "loss: 196.584, acc: 0.557\n",
            "\n",
            "Running Validation...\n",
            "  Accuracy: 0.34\n",
            "\n",
            "======== Epoch 13 / 60 ========\n",
            "Training...\n",
            "loss: 189.504, acc: 0.593\n",
            "\n",
            "Running Validation...\n",
            "  Accuracy: 0.35\n",
            "\n",
            "======== Epoch 14 / 60 ========\n",
            "Training...\n",
            "loss: 182.175, acc: 0.628\n",
            "\n",
            "Running Validation...\n",
            "  Accuracy: 0.37\n",
            "\n",
            "======== Epoch 15 / 60 ========\n",
            "Training...\n",
            "loss: 175.480, acc: 0.650\n",
            "\n",
            "Running Validation...\n",
            "  Accuracy: 0.38\n",
            "\n",
            "======== Epoch 16 / 60 ========\n",
            "Training...\n",
            "loss: 169.026, acc: 0.686\n",
            "\n",
            "Running Validation...\n",
            "  Accuracy: 0.40\n",
            "\n",
            "======== Epoch 17 / 60 ========\n",
            "Training...\n",
            "loss: 162.728, acc: 0.708\n",
            "\n",
            "Running Validation...\n",
            "  Accuracy: 0.44\n",
            "\n",
            "======== Epoch 18 / 60 ========\n",
            "Training...\n",
            "loss: 156.084, acc: 0.725\n",
            "\n",
            "Running Validation...\n",
            "  Accuracy: 0.45\n",
            "\n",
            "======== Epoch 19 / 60 ========\n",
            "Training...\n",
            "loss: 150.358, acc: 0.743\n",
            "\n",
            "Running Validation...\n",
            "  Accuracy: 0.46\n",
            "\n",
            "======== Epoch 20 / 60 ========\n",
            "Training...\n",
            "loss: 144.603, acc: 0.767\n",
            "\n",
            "Running Validation...\n",
            "  Accuracy: 0.50\n",
            "\n",
            "======== Epoch 21 / 60 ========\n",
            "Training...\n",
            "loss: 139.158, acc: 0.784\n",
            "\n",
            "Running Validation...\n",
            "  Accuracy: 0.49\n",
            "\n",
            "======== Epoch 22 / 60 ========\n",
            "Training...\n",
            "loss: 133.107, acc: 0.793\n",
            "\n",
            "Running Validation...\n",
            "  Accuracy: 0.50\n",
            "\n",
            "======== Epoch 23 / 60 ========\n",
            "Training...\n",
            "loss: 128.842, acc: 0.804\n",
            "\n",
            "Running Validation...\n",
            "  Accuracy: 0.52\n",
            "\n",
            "======== Epoch 24 / 60 ========\n",
            "Training...\n",
            "loss: 123.178, acc: 0.819\n",
            "\n",
            "Running Validation...\n",
            "  Accuracy: 0.52\n",
            "\n",
            "======== Epoch 25 / 60 ========\n",
            "Training...\n",
            "loss: 118.228, acc: 0.835\n",
            "\n",
            "Running Validation...\n",
            "  Accuracy: 0.53\n",
            "\n",
            "======== Epoch 26 / 60 ========\n",
            "Training...\n",
            "loss: 113.018, acc: 0.847\n",
            "\n",
            "Running Validation...\n",
            "  Accuracy: 0.54\n",
            "\n",
            "======== Epoch 27 / 60 ========\n",
            "Training...\n",
            "loss: 108.612, acc: 0.856\n",
            "\n",
            "Running Validation...\n",
            "  Accuracy: 0.55\n",
            "\n",
            "======== Epoch 28 / 60 ========\n",
            "Training...\n",
            "loss: 104.184, acc: 0.865\n",
            "\n",
            "Running Validation...\n",
            "  Accuracy: 0.57\n",
            "\n",
            "======== Epoch 29 / 60 ========\n",
            "Training...\n",
            "loss: 99.460, acc: 0.882\n",
            "\n",
            "Running Validation...\n",
            "  Accuracy: 0.58\n",
            "\n",
            "======== Epoch 30 / 60 ========\n",
            "Training...\n",
            "loss: 95.197, acc: 0.881\n",
            "\n",
            "Running Validation...\n",
            "  Accuracy: 0.57\n",
            "\n",
            "======== Epoch 31 / 60 ========\n",
            "Training...\n",
            "loss: 90.968, acc: 0.892\n",
            "\n",
            "Running Validation...\n",
            "  Accuracy: 0.58\n",
            "\n",
            "======== Epoch 32 / 60 ========\n",
            "Training...\n",
            "loss: 86.634, acc: 0.906\n",
            "\n",
            "Running Validation...\n",
            "  Accuracy: 0.59\n",
            "\n",
            "======== Epoch 33 / 60 ========\n",
            "Training...\n",
            "loss: 82.708, acc: 0.906\n",
            "\n",
            "Running Validation...\n",
            "  Accuracy: 0.60\n",
            "\n",
            "======== Epoch 34 / 60 ========\n",
            "Training...\n",
            "loss: 79.337, acc: 0.921\n",
            "\n",
            "Running Validation...\n",
            "  Accuracy: 0.62\n",
            "\n",
            "======== Epoch 35 / 60 ========\n",
            "Training...\n",
            "loss: 75.630, acc: 0.925\n",
            "\n",
            "Running Validation...\n",
            "  Accuracy: 0.61\n",
            "\n",
            "======== Epoch 36 / 60 ========\n",
            "Training...\n",
            "loss: 72.254, acc: 0.930\n",
            "\n",
            "Running Validation...\n",
            "  Accuracy: 0.62\n",
            "\n",
            "======== Epoch 37 / 60 ========\n",
            "Training...\n",
            "loss: 68.960, acc: 0.935\n",
            "\n",
            "Running Validation...\n",
            "  Accuracy: 0.62\n",
            "\n",
            "======== Epoch 38 / 60 ========\n",
            "Training...\n",
            "loss: 65.236, acc: 0.942\n",
            "\n",
            "Running Validation...\n",
            "  Accuracy: 0.63\n",
            "\n",
            "======== Epoch 39 / 60 ========\n",
            "Training...\n",
            "loss: 62.300, acc: 0.945\n",
            "\n",
            "Running Validation...\n",
            "  Accuracy: 0.66\n",
            "\n",
            "======== Epoch 40 / 60 ========\n",
            "Training...\n",
            "loss: 59.361, acc: 0.949\n",
            "\n",
            "Running Validation...\n",
            "  Accuracy: 0.65\n",
            "\n",
            "======== Epoch 41 / 60 ========\n",
            "Training...\n",
            "loss: 56.674, acc: 0.952\n",
            "\n",
            "Running Validation...\n",
            "  Accuracy: 0.64\n",
            "\n",
            "======== Epoch 42 / 60 ========\n",
            "Training...\n",
            "loss: 53.695, acc: 0.958\n",
            "\n",
            "Running Validation...\n",
            "  Accuracy: 0.65\n",
            "\n",
            "======== Epoch 43 / 60 ========\n",
            "Training...\n",
            "loss: 50.885, acc: 0.960\n",
            "\n",
            "Running Validation...\n",
            "  Accuracy: 0.67\n",
            "\n",
            "======== Epoch 44 / 60 ========\n",
            "Training...\n",
            "loss: 48.318, acc: 0.961\n",
            "\n",
            "Running Validation...\n",
            "  Accuracy: 0.66\n",
            "\n",
            "======== Epoch 45 / 60 ========\n",
            "Training...\n",
            "loss: 46.212, acc: 0.969\n",
            "\n",
            "Running Validation...\n",
            "  Accuracy: 0.68\n",
            "\n",
            "======== Epoch 46 / 60 ========\n",
            "Training...\n",
            "loss: 43.447, acc: 0.970\n",
            "\n",
            "Running Validation...\n",
            "  Accuracy: 0.67\n",
            "\n",
            "======== Epoch 47 / 60 ========\n",
            "Training...\n",
            "loss: 41.327, acc: 0.971\n",
            "\n",
            "Running Validation...\n",
            "  Accuracy: 0.69\n",
            "\n",
            "======== Epoch 48 / 60 ========\n",
            "Training...\n",
            "loss: 39.218, acc: 0.974\n",
            "\n",
            "Running Validation...\n",
            "  Accuracy: 0.67\n",
            "\n",
            "======== Epoch 49 / 60 ========\n",
            "Training...\n",
            "loss: 36.945, acc: 0.977\n",
            "\n",
            "Running Validation...\n",
            "  Accuracy: 0.70\n",
            "\n",
            "======== Epoch 50 / 60 ========\n",
            "Training...\n",
            "loss: 34.893, acc: 0.979\n",
            "\n",
            "Running Validation...\n",
            "  Accuracy: 0.70\n",
            "\n",
            "======== Epoch 51 / 60 ========\n",
            "Training...\n",
            "loss: 33.228, acc: 0.978\n",
            "\n",
            "Running Validation...\n",
            "  Accuracy: 0.71\n",
            "\n",
            "======== Epoch 52 / 60 ========\n",
            "Training...\n",
            "loss: 31.611, acc: 0.982\n",
            "\n",
            "Running Validation...\n",
            "  Accuracy: 0.71\n",
            "\n",
            "======== Epoch 53 / 60 ========\n",
            "Training...\n",
            "loss: 29.645, acc: 0.983\n",
            "\n",
            "Running Validation...\n",
            "  Accuracy: 0.72\n",
            "\n",
            "======== Epoch 54 / 60 ========\n",
            "Training...\n",
            "loss: 28.226, acc: 0.983\n",
            "\n",
            "Running Validation...\n",
            "  Accuracy: 0.73\n",
            "\n",
            "======== Epoch 55 / 60 ========\n",
            "Training...\n",
            "loss: 26.579, acc: 0.983\n",
            "\n",
            "Running Validation...\n",
            "  Accuracy: 0.72\n",
            "\n",
            "======== Epoch 56 / 60 ========\n",
            "Training...\n",
            "loss: 25.067, acc: 0.984\n",
            "\n",
            "Running Validation...\n",
            "  Accuracy: 0.73\n",
            "\n",
            "======== Epoch 57 / 60 ========\n",
            "Training...\n",
            "loss: 23.680, acc: 0.987\n",
            "\n",
            "Running Validation...\n",
            "  Accuracy: 0.75\n",
            "\n",
            "======== Epoch 58 / 60 ========\n",
            "Training...\n",
            "loss: 22.207, acc: 0.987\n",
            "\n",
            "Running Validation...\n",
            "  Accuracy: 0.73\n",
            "\n",
            "======== Epoch 59 / 60 ========\n",
            "Training...\n",
            "loss: 21.152, acc: 0.987\n",
            "\n",
            "Running Validation...\n",
            "  Accuracy: 0.73\n",
            "\n",
            "======== Epoch 60 / 60 ========\n",
            "Training...\n",
            "loss: 19.890, acc: 0.988\n",
            "\n",
            "Running Validation...\n",
            "  Accuracy: 0.76\n",
            "Saving model to model_ep60_eg0_ml50\n"
          ],
          "name": "stdout"
        }
      ]
    },
    {
      "cell_type": "code",
      "metadata": {
        "id": "JUWY0ymFRhZi",
        "colab_type": "code",
        "outputId": "1785964e-c08d-4902-e9ca-28321ebbbe23",
        "colab": {
          "base_uri": "https://localhost:8080/",
          "height": 34
        }
      },
      "source": [
        "# testing\n",
        "predictions = get_predictions(model, testloader).detach().cpu().numpy()\n",
        "\n",
        "true_label = app_test.df_reindex[\"index\"]\n",
        "class_matrix, false_group = get_confusion_matrix(true_label, predictions, num_labels)\n",
        "print_acc(class_matrix)"
      ],
      "execution_count": 0,
      "outputs": [
        {
          "output_type": "stream",
          "text": [
            "Accuracy: 71.57894736842105%\n"
          ],
          "name": "stdout"
        }
      ]
    },
    {
      "cell_type": "code",
      "metadata": {
        "id": "e4SDiwdvh5q5",
        "colab_type": "code",
        "colab": {}
      },
      "source": [
        "counts = df_new['index'].value_counts().values\n",
        "\n",
        "fontprop = fm.FontProperties(fname='/usr/share/fonts/truetype/NotoSansCJKkr-Medium.otf', size= 18)"
      ],
      "execution_count": 0,
      "outputs": []
    },
    {
      "cell_type": "code",
      "metadata": {
        "id": "JxfPj1-U87NW",
        "colab_type": "code",
        "colab": {}
      },
      "source": [
        "def plot_dist_class(counts, bins):\n",
        "    plt.figure(figsize=(14, 7), facecolor=\"w\")\n",
        "    plt.hist(counts, bins=bins, histtype='bar')\n",
        "    plt.xlabel(\"筆數/類\", fontproperties=fontprop)\n",
        "    plt.ylabel(\"個數\", fontproperties=fontprop)\n",
        "\n",
        "    plt.axvline(counts.mean(), color='k', linestyle='dashed', linewidth=1)\n",
        "    min_ylim, max_ylim = plt.ylim()\n",
        "    #plt.text(counts.mean() * 1.1, max_ylim*0.5, '平均: {:.2f}筆/組'.format(counts.mean()),  fontproperties=fontprop)\n",
        "\n",
        "    # plt.axvline(5, color='r', linestyle='-', linewidth=1)\n",
        "    # plt.text(5 * 1.1, max_ylim*0.9, '少於5筆的共有{}類'.format(sum(counts < 5)),  fontproperties=fontprop, color = 'r')\n",
        "    "
      ],
      "execution_count": 0,
      "outputs": []
    },
    {
      "cell_type": "code",
      "metadata": {
        "id": "ZPpiqe4X9fti",
        "colab_type": "code",
        "outputId": "df60d879-eb0d-494d-c542-c20f55a1cd4e",
        "colab": {
          "base_uri": "https://localhost:8080/",
          "height": 34
        }
      },
      "source": [
        "len(counts)"
      ],
      "execution_count": 0,
      "outputs": [
        {
          "output_type": "execute_result",
          "data": {
            "text/plain": [
              "499"
            ]
          },
          "metadata": {
            "tags": []
          },
          "execution_count": 18
        }
      ]
    },
    {
      "cell_type": "code",
      "metadata": {
        "id": "vkvvVcqfAhYr",
        "colab_type": "code",
        "colab": {}
      },
      "source": [
        "counts = df_new['index'].value_counts().values\n",
        "fontprop = fm.FontProperties(fname='/usr/share/fonts/truetype/NotoSansCJKkr-Medium.otf', size= 22)\n",
        "fontprop1 = fm.FontProperties(fname='/usr/share/fonts/truetype/NotoSansCJKkr-Medium.otf', size= 15)"
      ],
      "execution_count": 0,
      "outputs": []
    },
    {
      "cell_type": "code",
      "metadata": {
        "id": "n6C8VeoJRkOQ",
        "colab_type": "code",
        "outputId": "b5fd4a71-f095-4eed-ceab-88379774f546",
        "colab": {
          "base_uri": "https://localhost:8080/",
          "height": 456
        }
      },
      "source": [
        "bins1 = np.append(np.arange(0, 20, 2), np.arange(20, 50, 2))\n",
        "bins1 = np.append(bins1, np.arange(50, 85, 2))\n",
        "#bins1 = np.append(bins1, [170])\n",
        "plot_dist_class(counts, bins1)\n",
        "plt.text(counts.mean() * 1.1, 150, '平均: {:.2f} 筆/類'.format(counts.mean()), fontproperties=fontprop)\n",
        "plt.text(82.5, -1.5, '～', rotation=90, fontproperties=fontprop1)\n",
        "plt.text(83, -1.5, '～', rotation=90, fontproperties=fontprop1)\n",
        "plt.show()"
      ],
      "execution_count": 0,
      "outputs": [
        {
          "output_type": "display_data",
          "data": {
            "image/png": "[encoded data removed]",
            "text/plain": [
              "<Figure size 1008x504 with 1 Axes>"
            ]
          },
          "metadata": {
            "tags": []
          }
        }
      ]
    },
    {
      "cell_type": "code",
      "metadata": {
        "id": "Jd5Lbmv-9RzT",
        "colab_type": "code",
        "outputId": "a24dfb19-b2ea-44d7-94d0-2d9b358e9405",
        "colab": {
          "base_uri": "https://localhost:8080/",
          "height": 451
        }
      },
      "source": [
        "bins2 = np.append(np.arange(0, 20, 2), np.arange(20, 50, 5))\n",
        "bins2 = np.append(bins2, np.arange(50, 105, 25))\n",
        "plot_dist_class(counts[1:], bins2)\n",
        "plt.axvline(5, color='r', linestyle='-', linewidth=1)\n",
        "plt.text(1, -12, '5 筆/組', color='r', fontproperties=fontprop)\n",
        "plt.show()"
      ],
      "execution_count": 0,
      "outputs": [
        {
          "output_type": "display_data",
          "data": {
            "image/png": "[encoded data removed]",
            "text/plain": [
              "<Figure size 1008x504 with 1 Axes>"
            ]
          },
          "metadata": {
            "tags": []
          }
        }
      ]
    },
    {
      "cell_type": "code",
      "metadata": {
        "id": "z0wmCNGs9a54",
        "colab_type": "code",
        "outputId": "2bac83a1-dbc3-4630-b149-f456d5734144",
        "colab": {
          "base_uri": "https://localhost:8080/",
          "height": 456
        }
      },
      "source": [
        "bins3 = np.arange(0, 30, 1)\n",
        "plt.figure(figsize=(14, 7), facecolor=\"w\")\n",
        "n, bins, patches = plt.hist(counts, bins=bins3, histtype='bar')\n",
        "plt.xlabel(\"筆數/類\", fontproperties=fontprop)\n",
        "#plt.ylabel(\"組數\", fontproperties=fontprop, rotation = 0, labelpad=30)\n",
        "plt.ylabel(\"個數\", fontproperties=fontprop)\n",
        "for i in range(5):\n",
        "    patches[i].set_color('r')\n",
        "#min_ylim, max_ylim = plt.ylim()\n",
        "\n",
        "plt.axvline(5, color='r', linestyle='-', linewidth=2)\n",
        "fontprop16 = fm.FontProperties(fname='/usr/share/fonts/truetype/NotoSansCJKkr-Medium.otf', size= 18)\n",
        "plt.text(-1, 20, '少於5筆的有{}類\\n共{}筆資料'.format(sum(counts < 5), sum(counts[counts < 5])),  fontproperties=fontprop16, color = 'r')\n",
        "plt.show()"
      ],
      "execution_count": 0,
      "outputs": [
        {
          "output_type": "display_data",
          "data": {
            "image/png": "[encoded data removed]",
            "text/plain": [
              "<Figure size 1008x504 with 1 Axes>"
            ]
          },
          "metadata": {
            "tags": []
          }
        }
      ]
    },
    {
      "cell_type": "code",
      "metadata": {
        "id": "HelX-fWp-poy",
        "colab_type": "code",
        "outputId": "1d734496-11c0-403c-b022-12246d4c2508",
        "colab": {
          "base_uri": "https://localhost:8080/",
          "height": 130
        }
      },
      "source": [
        "sum(counts）"
      ],
      "execution_count": 0,
      "outputs": [
        {
          "output_type": "error",
          "ename": "SyntaxError",
          "evalue": "ignored",
          "traceback": [
            "\u001b[0;36m  File \u001b[0;32m\"<ipython-input-1-417edadcff78>\"\u001b[0;36m, line \u001b[0;32m1\u001b[0m\n\u001b[0;31m    sum(counts）\u001b[0m\n\u001b[0m              ^\u001b[0m\n\u001b[0;31mSyntaxError\u001b[0m\u001b[0;31m:\u001b[0m invalid character in identifier\n"
          ]
        }
      ]
    },
    {
      "cell_type": "code",
      "metadata": {
        "id": "Q0B_VwlUmL_y",
        "colab_type": "code",
        "colab": {}
      },
      "source": [
        ""
      ],
      "execution_count": 0,
      "outputs": []
    }
  ]
}